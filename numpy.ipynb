{
 "cells": [
  {
   "cell_type": "code",
   "execution_count": 8,
   "metadata": {},
   "outputs": [
    {
     "name": "stdout",
     "output_type": "stream",
     "text": [
      "[1 2 3 4 5]\n",
      "****************************************************************************************************\n",
      "42\n",
      "****************************************************************************************************\n",
      "[1 2 3 4 5]\n",
      "****************************************************************************************************\n",
      "[[1 2 3]\n",
      " [4 5 6]]\n",
      "****************************************************************************************************\n",
      "[[[1 2 3]\n",
      "  [4 5 6]]\n",
      "\n",
      " [[1 2 3]\n",
      "  [4 5 6]]]\n",
      "3\n",
      "****************************************************************************************************\n"
     ]
    }
   ],
   "source": [
    "#Dimensions\n",
    "import numpy as np\n",
    "\n",
    "arr = np.array([1,2,3,4,5])\n",
    "print(arr)\n",
    "print(\"*\" * 100)\n",
    "\n",
    "# 0-D Array\n",
    "arr = np.array(42)\n",
    "print(arr)\n",
    "print(\"*\" * 100)\n",
    "\n",
    "# 1-D Array\n",
    "arr = np.array([1, 2 , 3, 4, 5])\n",
    "print(arr)\n",
    "print(\"*\" * 100)\n",
    "\n",
    "# 2-D Array\n",
    "arr = np.array([[1, 2, 3], [4, 5, 6]])\n",
    "print(arr)\n",
    "print(\"*\" * 100)\n",
    "\n",
    "# 3-D Array\n",
    "arr = np.array([[[1, 2, 3], [4, 5, 6]], [[1, 2, 3], [4, 5, 6]]])\n",
    "print(arr)  \n",
    "print(\"*\" * 100)"
   ]
  },
  {
   "cell_type": "code",
   "execution_count": 9,
   "metadata": {},
   "outputs": [
    {
     "name": "stdout",
     "output_type": "stream",
     "text": [
      "Numpy array :\n",
      "[[ 1  2  3  4]\n",
      " [ 5  6  7  8]\n",
      " [ 9 10 11 12]]\n",
      "Shape of the array : (3, 4)\n"
     ]
    }
   ],
   "source": [
    "# Shape method\n",
    "import numpy as np\n",
    "\n",
    "# creating list \n",
    "list_1 = [1, 2, 3, 4]\n",
    "list_2 = [5, 6, 7, 8]\n",
    "list_3 = [9, 10, 11, 12]\n",
    "\n",
    "\n",
    "sample_array = np.array([list_1,\n",
    "                         list_2,\n",
    "                         list_3])\n",
    "\n",
    "print(\"Numpy array :\")\n",
    "print(sample_array)\n",
    "\n",
    "print(\"Shape of the array :\",\n",
    "      sample_array.shape)\n",
    "\n",
    "\n"
   ]
  },
  {
   "cell_type": "code",
   "execution_count": 11,
   "metadata": {},
   "outputs": [
    {
     "name": "stdout",
     "output_type": "stream",
     "text": [
      "1D Array: [1 2 3 4 5]\n",
      "Slicing 1D Array: [2 3 4]\n",
      "\n",
      "2D Array:\n",
      "[[1 2 3]\n",
      " [4 5 6]\n",
      " [7 8 9]]\n",
      "Slicing 2D Array (column): [[2 3]\n",
      " [5 6]\n",
      " [8 9]]\n",
      "\n",
      "3D Array:\n",
      "[[[ 1  2  3]\n",
      "  [ 4  5  6]]\n",
      "\n",
      " [[ 7  8  9]\n",
      "  [10 11 12]]]\n",
      "Slicing 3D Array (element): [[ 5  6]\n",
      " [11 12]]\n",
      "\n",
      "4D Array:\n",
      "[[[[ 1  2]\n",
      "   [ 3  4]]\n",
      "\n",
      "  [[ 5  6]\n",
      "   [ 7  8]]]\n",
      "\n",
      "\n",
      " [[[ 9 10]\n",
      "   [11 12]]\n",
      "\n",
      "  [[13 14]\n",
      "   [15 16]]]]\n",
      "Slicing 4D Array (first element): [1 2]\n"
     ]
    }
   ],
   "source": [
    "#Slicing every dimension\n",
    "import numpy as np\n",
    "\n",
    "# Dimension: 1D\n",
    "arr_1d = np.array([1, 2, 3, 4, 5])\n",
    "print(\"1D Array:\", arr_1d)\n",
    "print(\"Slicing 1D Array:\", arr_1d[1:4])  \n",
    "\n",
    "# Dimension: 2D\n",
    "arr_2d = np.array([[1, 2, 3], [4, 5, 6], [7, 8, 9]])\n",
    "print(\"\\n2D Array:\")\n",
    "print(arr_2d)\n",
    "print(\"Slicing 2D Array (column):\", arr_2d[:, 1:])  \n",
    "\n",
    "# Dimension: 3D\n",
    "arr_3d = np.array([[[1, 2, 3], [4, 5, 6]], [[7, 8, 9], [10, 11, 12]]])\n",
    "print(\"\\n3D Array:\")\n",
    "print(arr_3d)\n",
    "print(\"Slicing 3D Array (element):\", arr_3d[:, 1, 1:])\n",
    "\n",
    "# Dimension: 4D\n",
    "arr_4d = np.array([[[[1, 2], [3, 4]], [[5, 6], [7, 8]]], [[[9, 10], [11, 12]], [[13, 14], [15, 16]]]])\n",
    "print(\"\\n4D Array:\")\n",
    "print(arr_4d)\n",
    "print(\"Slicing 4D Array (first element):\", arr_4d[0, 0, 0, :])  \n"
   ]
  },
  {
   "cell_type": "code",
   "execution_count": 12,
   "metadata": {},
   "outputs": [
    {
     "name": "stdout",
     "output_type": "stream",
     "text": [
      "<U6\n"
     ]
    }
   ],
   "source": [
    "# Get the datatype of the array\n",
    "import numpy as np\n",
    "arr = np.array([\"apple\", \"banana\", \"cherry\"])\n",
    "print(arr.dtype)"
   ]
  },
  {
   "cell_type": "code",
   "execution_count": 14,
   "metadata": {},
   "outputs": [
    {
     "name": "stdout",
     "output_type": "stream",
     "text": [
      "[1 2 3]\n",
      "int32\n",
      "**************************************************\n",
      "[ True False  True]\n",
      "bool\n",
      "**************************************************\n"
     ]
    }
   ],
   "source": [
    "# Change data type of the array\n",
    "# Change float to int\n",
    "import numpy as np \n",
    "arr = np.array([1.1, 2.1, 3.1])\n",
    "newarr = arr.astype('i')\n",
    "print(newarr)\n",
    "print(newarr.dtype)\n",
    "print(\"*\" * 50)\n",
    "\n",
    "# Change int to float\n",
    "import numpy as np \n",
    "arr = np.array([1, 0, 3])\n",
    "newarr = arr.astype(bool)\n",
    "print(newarr)\n",
    "print(newarr.dtype)\n",
    "print(\"*\" * 50)"
   ]
  },
  {
   "cell_type": "code",
   "execution_count": 17,
   "metadata": {},
   "outputs": [
    {
     "name": "stdout",
     "output_type": "stream",
     "text": [
      "[42  2  3  4  5]\n",
      "[1 2 3 4 5]\n",
      "**************************************************\n",
      "[31  2  3  4  5]\n",
      "[31  2  3  4  5]\n",
      "**************************************************\n"
     ]
    }
   ],
   "source": [
    "# Copy and view in arrays\n",
    "# Copy() - Changes made to the original does not affect the copy\n",
    "import numpy as np\n",
    "arr = np.array([1, 2, 3, 4, 5])\n",
    "copy = arr.copy()\n",
    "arr[0] = 42\n",
    "print(arr)\n",
    "print(copy)\n",
    "print(\"*\" * 50)\n",
    "\n",
    "# View() - Changes made to the original will affect the view\n",
    "import numpy as np\n",
    "arr = np.array([1, 2, 3, 4, 5])\n",
    "copy = arr.view()\n",
    "arr[0] = 31\n",
    "print(arr)\n",
    "print(copy)\n",
    "print(\"*\" * 50)"
   ]
  },
  {
   "cell_type": "code",
   "execution_count": 18,
   "metadata": {},
   "outputs": [
    {
     "name": "stdout",
     "output_type": "stream",
     "text": [
      "Original 1D array:\n",
      "[ 0  1  2  3  4  5  6  7  8  9 10 11]\n",
      "**************************************************\n",
      "\n",
      "Reshaped 2D array:\n",
      "[[ 0  1  2  3]\n",
      " [ 4  5  6  7]\n",
      " [ 8  9 10 11]]\n",
      "**************************************************\n",
      "\n",
      "Reshaped 3D array:\n",
      "[[[ 0  1]\n",
      "  [ 2  3]]\n",
      "\n",
      " [[ 4  5]\n",
      "  [ 6  7]]\n",
      "\n",
      " [[ 8  9]\n",
      "  [10 11]]]\n",
      "**************************************************\n"
     ]
    }
   ],
   "source": [
    "# Reshape - Changes the number of rows and coloums of the matrix\n",
    "import numpy as np\n",
    "\n",
    "# Creating a 1D array with 12 elements\n",
    "arr = np.arange(12)\n",
    "print(\"Original 1D array:\")\n",
    "print(arr)\n",
    "print(\"*\" * 50)\n",
    "\n",
    "# Reshaping the 1D array into a 3x4 2D array\n",
    "arr_2d = arr.reshape(3, 4)\n",
    "print(\"\\nReshaped 2D array:\")\n",
    "print(arr_2d)\n",
    "print(\"*\" * 50)\n",
    "\n",
    "# Reshaping the 1D array into a 3x2x2 3D array\n",
    "arr_3d = arr.reshape(3, 2, 2)\n",
    "print(\"\\nReshaped 3D array:\")\n",
    "print(arr_3d)\n",
    "print(\"*\" * 50)\n"
   ]
  },
  {
   "cell_type": "code",
   "execution_count": 19,
   "metadata": {},
   "outputs": [
    {
     "name": "stdout",
     "output_type": "stream",
     "text": [
      "1D Array:\n",
      "1 2 3 4 5 \n",
      "\n",
      "2D Array:\n",
      "1 2 3 \n",
      "4 5 6 \n",
      "7 8 9 \n",
      "\n",
      "3D Array:\n",
      "Depth:\n",
      "1 2 \n",
      "3 4 \n",
      "\n",
      "Depth:\n",
      "5 6 \n",
      "7 8 \n",
      "\n",
      "Depth:\n",
      "9 10 \n",
      "11 12 \n",
      "\n"
     ]
    }
   ],
   "source": [
    "# Iterating\n",
    "import numpy as np\n",
    "\n",
    "# 1D array\n",
    "arr_1d = np.array([1, 2, 3, 4, 5])\n",
    "print(\"1D Array:\")\n",
    "for i in arr_1d:\n",
    "    print(i, end=' ')\n",
    "print(\"\\n\")\n",
    "\n",
    "# 2D array\n",
    "arr_2d = np.array([[1, 2, 3], [4, 5, 6], [7, 8, 9]])\n",
    "print(\"2D Array:\")\n",
    "for row in arr_2d:\n",
    "    for elem in row:\n",
    "        print(elem, end=' ')\n",
    "    print()\n",
    "print()\n",
    "\n",
    "# 3D array\n",
    "arr_3d = np.array([[[1, 2], [3, 4]], [[5, 6], [7, 8]], [[9, 10], [11, 12]]])\n",
    "print(\"3D Array:\")\n",
    "for depth in arr_3d:\n",
    "    print(\"Depth:\")\n",
    "    for row in depth:\n",
    "        for elem in row:\n",
    "            print(elem, end=' ')\n",
    "        print()\n",
    "    print()\n"
   ]
  },
  {
   "cell_type": "code",
   "execution_count": 25,
   "metadata": {},
   "outputs": [
    {
     "name": "stdout",
     "output_type": "stream",
     "text": [
      "1 2 3 4 5 6 7 8 "
     ]
    }
   ],
   "source": [
    "# nditor() to iterate\n",
    "import numpy as np\n",
    "arr = np.array([[[1, 2], [3, 4]], [[5, 6], [7, 8]]])\n",
    "\n",
    "for value in np.nditer(arr):\n",
    "    print(value, end=\" \")"
   ]
  },
  {
   "cell_type": "code",
   "execution_count": 1,
   "metadata": {},
   "outputs": [
    {
     "name": "stdout",
     "output_type": "stream",
     "text": [
      "0 Cherry\n",
      "1 Pineapple\n",
      "2 Watermelon\n"
     ]
    }
   ],
   "source": [
    "# ndenumerate() - Gets the index position of the element in the array\n",
    "import numpy as np\n",
    "arr = np.array([\"Cherry\", \"Pineapple\", \"Watermelon\"])\n",
    "for idx, x in np.ndenumerate(arr):\n",
    "    print(idx[0], x) \n"
   ]
  },
  {
   "cell_type": "code",
   "execution_count": 2,
   "metadata": {},
   "outputs": [
    {
     "name": "stdout",
     "output_type": "stream",
     "text": [
      "[[[[[1 2 3 4]]]]]\n",
      "Number of dimensions:  5\n"
     ]
    }
   ],
   "source": [
    "import numpy as np\n",
    "\n",
    "arr = np.array([1,2,3,4], ndmin=5)\n",
    "print(arr)\n",
    "print(\"Number of dimensions: \", arr.ndim)"
   ]
  },
  {
   "cell_type": "code",
   "execution_count": 59,
   "metadata": {},
   "outputs": [
    {
     "name": "stdout",
     "output_type": "stream",
     "text": [
      "2nd element on 1st dimension (indexing): 2\n",
      "2nd element on 1st dimension (slicing): 2\n",
      "Slicing (all values in reverse): [[10  9  8  7  6]\n",
      " [ 5  4  3  2  1]]\n",
      "Using map and lambda to iterate through each element and print:\n",
      "[array([1, 2, 3, 4, 5]), array([ 6,  7,  8,  9, 10])]\n",
      "Using a for loop to iterate through each element and print:\n",
      "[1 2 3 4 5] [ 6  7  8  9 10]\n"
     ]
    }
   ],
   "source": [
    "import numpy as np\n",
    "\n",
    "import numpy as np\n",
    "\n",
    "arr = np.array([[1,2,3,4,5], [6,7,8,9,10]])\n",
    "\n",
    "# Printing the 2nd element in the 1st dimension using indexing\n",
    "print(\"2nd element on 1st dimension (indexing):\", arr[0][1])\n",
    "\n",
    "# Printing the 2nd element in the 1st dimension using slicing\n",
    "print(\"2nd element on 1st dimension (slicing):\", arr[0, 1])\n",
    "\n",
    "# Printing all values in reverse order\n",
    "print(\"Slicing (all values in reverse):\", arr[::-1, ::-1])\n",
    "\n",
    "# Using map and lambda to iterate through each element and print\n",
    "print(\"Using map and lambda to iterate through each element and print:\")\n",
    "print(list(map(lambda a: a, arr)))\n",
    "\n",
    "# Using a for loop to iterate through each element and print\n",
    "print(\"Using a for loop to iterate through each element and print:\")\n",
    "print(*(element for element in arr))\n",
    "\n",
    "\n",
    "\n"
   ]
  },
  {
   "cell_type": "markdown",
   "metadata": {},
   "source": [
    "NUMPY EXAMPLE PDF"
   ]
  },
  {
   "cell_type": "code",
   "execution_count": 22,
   "metadata": {},
   "outputs": [
    {
     "name": "stdout",
     "output_type": "stream",
     "text": [
      "arr_1d + 10: [11 12 13 14 15]\n",
      "\n",
      "arr_1d * 10: [ 2  4  6  8 10]\n",
      "\n",
      "arr_1d + arr_1d: [ 2  4  6  8 10]\n",
      "\n",
      "sin(arr_1d): [ 0.84147098  0.90929743  0.14112001 -0.7568025  -0.95892427]\n",
      "\n",
      "exp(arr_1d): [  2.71828183   7.3890561   20.08553692  54.59815003 148.4131591 ]\n",
      "\n",
      "Matrix Multiplication (arr_2d * arr_2d): \n",
      "[[ 30  36  42]\n",
      " [ 66  81  96]\n",
      " [102 126 150]]\n",
      "\n",
      "Transpose of arr_1d: [1 2 3 4 5]\n",
      "\n",
      "Element at index 2 of arr_1d: 3\n",
      "\n",
      "arr_1d[1:4]: [2 3 4]\n",
      "\n",
      "Second column of arr_2d: [2 5 8]\n",
      "\n",
      "Shape of arr_2d: (3, 3)\n",
      "\n",
      "Original 1D Array: \n",
      "[1 2 3 4 5 6]\n",
      "Reshaped 2D Matrix: \n",
      "[[1 2]\n",
      " [3 4]\n",
      " [5 6]]\n",
      "Flattened arr_2d: [1 2 3 4 5 6 7 8 9]\n",
      "\n",
      "Sum of arr_1d: 15\n",
      "\n",
      "Mean of arr_1d: 3.0\n",
      "\n",
      "Maximum value in arr_1d: 5\n",
      "\n",
      "Elements greater than 3 in arr_1d: [False False False  True  True]\n",
      "\n",
      "Logical AND between arr_1d > 2 and arr_1d < 5: [False False  True  True False]\n",
      "\n",
      "3x3 array of random numbers between 0 and 1: \n",
      "[[0.54732175 0.45891784 0.95556891]\n",
      " [0.80079949 0.62687992 0.06456189]\n",
      " [0.62772309 0.63905931 0.5516156 ]]\n",
      "\n"
     ]
    }
   ],
   "source": [
    "import numpy as np\n",
    "\n",
    "# Creating array\n",
    "arr_1d = np.array([1, 2, 3, 4, 5])\n",
    "arr_2d = np.array([[1, 2, 3], [4, 5, 6], [7, 8, 9]])\n",
    "\n",
    "\n",
    "# Basic array operations\n",
    "result = arr_1d + 10\n",
    "print(f\"arr_1d + 10: {result}\\n\")\n",
    "\n",
    "result = arr_1d * 2\n",
    "print(f\"arr_1d * 10: {result}\\n\")\n",
    "\n",
    "result = arr_1d + arr_1d\n",
    "print(f\"arr_1d + arr_1d: {result}\\n\")\n",
    "\n",
    "\n",
    "# Element-wise operations\n",
    "result = np.sin(arr_1d)\n",
    "print(f\"sin(arr_1d): {result}\\n\")\n",
    "\n",
    "result = np.exp(arr_1d)\n",
    "print(f\"exp(arr_1d): {result}\\n\")\n",
    "\n",
    "\n",
    "# Matrix Multiplication\n",
    "result = np.dot(arr_2d, arr_2d)\n",
    "print(f\"Matrix Multiplication (arr_2d * arr_2d): \\n{result}\\n\")\n",
    "\n",
    "result = arr_1d.T\n",
    "print(f\"Transpose of arr_1d: {result}\\n\")\n",
    "\n",
    "\n",
    "# Indexing and Slicing\n",
    "element = arr_1d[2]\n",
    "print(f\"Element at index 2 of arr_1d: {element}\\n\")\n",
    "\n",
    "element = arr_1d[1:4]\n",
    "print(f\"arr_1d[1:4]: {element}\\n\")\n",
    "\n",
    "element = arr_2d[:, 1]\n",
    "print(f\"Second column of arr_2d: {element}\\n\")\n",
    "\n",
    "\n",
    "# Shape and reshaping\n",
    "shape = arr_2d.shape\n",
    "print(f\"Shape of arr_2d: {shape}\\n\")\n",
    "\n",
    "\n",
    "# Print the original 1D array and the reshaped 2D matrix\n",
    "arr_1dim = np.array([1, 2, 3, 4, 5, 6])\n",
    "arr_2dim = arr_1dim.reshape(3, 2)\n",
    "\n",
    "print(f\"Original 1D Array: \\n{arr_1dim}\")\n",
    "print(f\"Reshaped 2D Matrix: \\n{arr_2dim}\")\n",
    "\n",
    "flattened = arr_2d.flatten()\n",
    "print(f\"Flattened arr_2d: {flattened}\\n\")\n",
    "\n",
    "\n",
    "# Array Functions\n",
    "total = np.sum(arr_1d)\n",
    "print(f\"Sum of arr_1d: {total}\\n\")\n",
    "\n",
    "average = np.mean(arr_1d)\n",
    "print(f\"Mean of arr_1d: {average}\\n\")\n",
    "\n",
    "maximum = np.max(arr_1d)\n",
    "print(f\"Maximum value in arr_1d: {maximum}\\n\")\n",
    "\n",
    "greater_than_3 = arr_1d > 3\n",
    "print(f\"Elements greater than 3 in arr_1d: {greater_than_3}\\n\")\n",
    "\n",
    "logical_and = np.logical_and(arr_1d > 2, arr_1d < 5)\n",
    "print(f\"Logical AND between arr_1d > 2 and arr_1d < 5: {logical_and}\\n\")\n",
    "\n",
    "\n",
    "# Random Number Generation\n",
    "random_numbers = np.random.rand(3, 3)\n",
    "print(f\"3x3 array of random numbers between 0 and 1: \\n{random_numbers}\\n\")\n",
    "\n"
   ]
  },
  {
   "cell_type": "markdown",
   "metadata": {},
   "source": [
    "MORE NUMPY EXAMPLES"
   ]
  },
  {
   "cell_type": "code",
   "execution_count": 2,
   "metadata": {},
   "outputs": [
    {
     "name": "stdout",
     "output_type": "stream",
     "text": [
      "<class 'list'>\n",
      "\n",
      "List :  [20, 30, 64, 75, 80]\n"
     ]
    }
   ],
   "source": [
    "import numpy as np\n",
    "weight = [20, 30, 64, 75, 80]\n",
    "print(type(weight))\n",
    "print(\"\\nList : \", weight)"
   ]
  },
  {
   "cell_type": "code",
   "execution_count": 24,
   "metadata": {},
   "outputs": [
    {
     "name": "stdout",
     "output_type": "stream",
     "text": [
      "[20 30 64 75 80]\n",
      "(5,)\n",
      "<class 'numpy.ndarray'>\n"
     ]
    }
   ],
   "source": [
    "weight_array = np.array(weight)\n",
    "print(weight_array)\n",
    "print(weight_array.shape)\n",
    "print(type(weight_array))"
   ]
  },
  {
   "cell_type": "code",
   "execution_count": 74,
   "metadata": {},
   "outputs": [
    {
     "data": {
      "text/plain": [
       "array([0.86849643, 0.90737595, 0.47670262, 0.14349591, 0.69506168,\n",
       "       0.56075   , 0.50215398, 0.33528246, 0.03701769, 0.05889709])"
      ]
     },
     "execution_count": 74,
     "metadata": {},
     "output_type": "execute_result"
    }
   ],
   "source": [
    "import random \n",
    "np.random.random(size = 10)"
   ]
  },
  {
   "cell_type": "code",
   "execution_count": 75,
   "metadata": {},
   "outputs": [
    {
     "name": "stdout",
     "output_type": "stream",
     "text": [
      "[24 36 39 23 47]\n"
     ]
    }
   ],
   "source": [
    "print(np.random.randint(20,50,5))"
   ]
  },
  {
   "cell_type": "code",
   "execution_count": 76,
   "metadata": {},
   "outputs": [
    {
     "data": {
      "text/plain": [
       "array([ 0.62614208,  0.8394686 ,  1.30350598, -0.84286166, -0.21459377])"
      ]
     },
     "execution_count": 76,
     "metadata": {},
     "output_type": "execute_result"
    }
   ],
   "source": [
    "np.random.randn(5)"
   ]
  },
  {
   "cell_type": "code",
   "execution_count": 84,
   "metadata": {},
   "outputs": [
    {
     "name": "stdout",
     "output_type": "stream",
     "text": [
      "[10 12 14 16 18]\n",
      "(5,)\n",
      "1\n"
     ]
    }
   ],
   "source": [
    "even_num = np.arange(start = 10, stop = 20, step = 2)\n",
    "print(even_num)\n",
    "print(even_num.shape)\n",
    "print(even_num.ndim)"
   ]
  },
  {
   "cell_type": "code",
   "execution_count": 78,
   "metadata": {},
   "outputs": [
    {
     "name": "stdout",
     "output_type": "stream",
     "text": [
      "[ 0.          2.63157895  5.26315789  7.89473684 10.52631579 13.15789474\n",
      " 15.78947368 18.42105263 21.05263158 23.68421053 26.31578947 28.94736842\n",
      " 31.57894737 34.21052632 36.84210526 39.47368421 42.10526316 44.73684211\n",
      " 47.36842105 50.        ]\n"
     ]
    }
   ],
   "source": [
    "a = np.linspace(start = 0 , stop = 50 , num = 20)\n",
    "print(a)"
   ]
  },
  {
   "cell_type": "code",
   "execution_count": 79,
   "metadata": {},
   "outputs": [
    {
     "data": {
      "text/plain": [
       "array([0., 0., 0., 0., 0.])"
      ]
     },
     "execution_count": 79,
     "metadata": {},
     "output_type": "execute_result"
    }
   ],
   "source": [
    "np.zeros(shape = 5)"
   ]
  },
  {
   "cell_type": "code",
   "execution_count": 80,
   "metadata": {},
   "outputs": [
    {
     "data": {
      "text/plain": [
       "array([1., 1., 1., 1., 1.])"
      ]
     },
     "execution_count": 80,
     "metadata": {},
     "output_type": "execute_result"
    }
   ],
   "source": [
    "np.ones(shape = 5)"
   ]
  },
  {
   "cell_type": "code",
   "execution_count": 3,
   "metadata": {},
   "outputs": [
    {
     "name": "stdout",
     "output_type": "stream",
     "text": [
      "[[3 3]\n",
      " [3 3]]\n",
      "2\n",
      "(2, 2)\n"
     ]
    }
   ],
   "source": [
    "matrix_full = np.full((2,2),fill_value = 3)\n",
    "print(matrix_full)\n",
    "print(matrix_full.ndim)\n",
    "print(matrix_full.shape)"
   ]
  },
  {
   "cell_type": "code",
   "execution_count": 4,
   "metadata": {},
   "outputs": [
    {
     "name": "stdout",
     "output_type": "stream",
     "text": [
      "[[1. 0. 0. 0.]\n",
      " [0. 1. 0. 0.]\n",
      " [0. 0. 1. 0.]\n",
      " [0. 0. 0. 1.]]\n"
     ]
    }
   ],
   "source": [
    "a = np.identity(4)\n",
    "print(a)\n"
   ]
  },
  {
   "cell_type": "code",
   "execution_count": 43,
   "metadata": {},
   "outputs": [
    {
     "data": {
      "text/plain": [
       "array(['python', 'for', 'data', 'science'], dtype='<U7')"
      ]
     },
     "execution_count": 43,
     "metadata": {},
     "output_type": "execute_result"
    }
   ],
   "source": [
    "b_string = np.array([\"python\", \"for\", \"data\", \"science\"])\n",
    "b_string"
   ]
  },
  {
   "cell_type": "code",
   "execution_count": 3,
   "metadata": {},
   "outputs": [
    {
     "name": "stdout",
     "output_type": "stream",
     "text": [
      "no of elements: 7\n",
      "shape of array: (7,)\n",
      "dimension of an array: 1\n",
      "data type of an array: int32\n"
     ]
    }
   ],
   "source": [
    "num = np.array([45,89,4,3,55,56,778])\n",
    "\n",
    "print('no of elements:', num.size)\n",
    "\n",
    "print('shape of array:', num.shape)\n",
    "\n",
    "print('dimension of an array:',num.ndim)\n",
    "\n",
    "print('data type of an array:', num.dtype)"
   ]
  },
  {
   "cell_type": "code",
   "execution_count": 7,
   "metadata": {},
   "outputs": [
    {
     "name": "stdout",
     "output_type": "stream",
     "text": [
      "original arrays:\n",
      " [[4 9]\n",
      " [7 2]\n",
      " [5 6]]\n",
      "(3, 2)\n"
     ]
    }
   ],
   "source": [
    "#numpy array methods:\n",
    "\n",
    "#reshape\n",
    "\n",
    "import numpy as np\n",
    "\n",
    "original_array = np.array([(4, 9), (7, 2),(5,6)])\n",
    "\n",
    "print('original arrays:\\n', original_array)\n",
    "\n",
    "print(original_array.shape)"
   ]
  },
  {
   "cell_type": "code",
   "execution_count": 8,
   "metadata": {},
   "outputs": [
    {
     "name": "stdout",
     "output_type": "stream",
     "text": [
      "reshaped array: \n",
      " [[4 9 7]\n",
      " [2 5 6]]\n",
      "shape for reshaped array: (2, 3)\n"
     ]
    }
   ],
   "source": [
    "reshaped_array = original_array.reshape(2,3)\n",
    "\n",
    "print('reshaped array: \\n', reshaped_array) \n",
    "print('shape for reshaped array:', reshaped_array.shape)"
   ]
  },
  {
   "cell_type": "code",
   "execution_count": 10,
   "metadata": {},
   "outputs": [
    {
     "name": "stdout",
     "output_type": "stream",
     "text": [
      "original array  [0 1 2 3]\n",
      "dimension of an array  1\n"
     ]
    }
   ],
   "source": [
    "#arange => note it will convert id to 2d:\n",
    "\n",
    "num_matrix= np.arange(4)\n",
    "num_matrix\n",
    "\n",
    "print('original array ', num_matrix)\n",
    "print('dimension of an array ', num_matrix.ndim)"
   ]
  },
  {
   "cell_type": "code",
   "execution_count": 11,
   "metadata": {},
   "outputs": [
    {
     "name": "stdout",
     "output_type": "stream",
     "text": [
      "reshaped array  [[0 1]\n",
      " [2 3]]\n"
     ]
    }
   ],
   "source": [
    "reshaped_matrix = num_matrix.reshape(2,2) \n",
    "print('reshaped array ', reshaped_matrix)"
   ]
  },
  {
   "cell_type": "code",
   "execution_count": 12,
   "metadata": {},
   "outputs": [
    {
     "name": "stdout",
     "output_type": "stream",
     "text": [
      "[23 45 18 26 34 56]\n",
      "last element:  56\n",
      "fourth element:  26\n"
     ]
    }
   ],
   "source": [
    "# indexing of an array:\n",
    "\n",
    "age = np.array([23,45,18,26,34,56]) \n",
    "print(age)\n",
    "\n",
    "#1d\n",
    "\n",
    "#+ve indexing always starts from '0'\n",
    "\n",
    "#-ve indexing always starts from '-1'\n",
    "\n",
    "print('last element: ',age[-1]) \n",
    "print('fourth element: ', age[3])"
   ]
  },
  {
   "cell_type": "code",
   "execution_count": 13,
   "metadata": {},
   "outputs": [
    {
     "data": {
      "text/plain": [
       "array([[51, 45, 68],\n",
       "       [62, 74, 55]])"
      ]
     },
     "execution_count": 13,
     "metadata": {},
     "output_type": "execute_result"
    }
   ],
   "source": [
    "# indexing of 2d arrays:\n",
    "\n",
    "weight = np.array([(51,45,68), (62,74,55)])\n",
    "\n",
    "weight"
   ]
  },
  {
   "cell_type": "code",
   "execution_count": 14,
   "metadata": {},
   "outputs": [
    {
     "name": "stdout",
     "output_type": "stream",
     "text": [
      "45\n",
      "68\n"
     ]
    }
   ],
   "source": [
    "a = weight[0][1]\n",
    "\n",
    "b= weight[0][2]\n",
    "\n",
    "print(a)\n",
    "\n",
    "print(b)"
   ]
  },
  {
   "cell_type": "code",
   "execution_count": 15,
   "metadata": {},
   "outputs": [
    {
     "name": "stdout",
     "output_type": "stream",
     "text": [
      "74\n",
      "55\n"
     ]
    }
   ],
   "source": [
    "c= weight[1][1]\n",
    "\n",
    "d= weight[1][2]\n",
    "\n",
    "print(c)\n",
    "\n",
    "print(d)"
   ]
  },
  {
   "cell_type": "code",
   "execution_count": 16,
   "metadata": {},
   "outputs": [
    {
     "name": "stdout",
     "output_type": "stream",
     "text": [
      "[23 45 18 26 34 56]\n",
      "3rd and 4th element [18 26]\n",
      "every 2nd element [45 26 56]\n",
      "reverse the arrays [56 34 26 18 45 23]\n",
      "elements before 34: [23 45 18 26]\n"
     ]
    }
   ],
   "source": [
    "#slicing of one dimensional arrays \n",
    "age = np.array([23,45,18,26,34,56]) \n",
    "print(age) \n",
    "print('3rd and 4th element', age[2:4]) \n",
    "print('every 2nd element', age[1 :: 2]) \n",
    "print('reverse the arrays', age[:: -1]) \n",
    "print('elements before 34:', age[:4])"
   ]
  },
  {
   "cell_type": "code",
   "execution_count": 18,
   "metadata": {},
   "outputs": [
    {
     "name": "stdout",
     "output_type": "stream",
     "text": [
      "[[51 45 68]\n",
      " [62 74 55]]\n",
      "[[51 45 68]\n",
      " [62 74 55]]\n",
      "2nd row and ist two clmns [62 74]\n",
      "[[51 45 68]\n",
      " [62 74 55]]\n",
      "[[45 68]\n",
      " [74 55]]\n"
     ]
    }
   ],
   "source": [
    "#slicing of two dimensional arrays\n",
    "\n",
    "weight = np.array([(51,45,68), (62,74,55)])\n",
    "\n",
    "print(weight)\n",
    "\n",
    "#retrive the elements in the 2nd row and 1st two clmns:\n",
    "\n",
    "print(weight[:]) #all rows\n",
    "\n",
    "print('2nd row and ist two clmns', weight[1,0:2]) #1-2nd row, 0:2 indexing of 1st t\n",
    "print(weight[:])\n",
    "print(weight[:,1:]) #clm wise-row, 1:-clms"
   ]
  },
  {
   "cell_type": "code",
   "execution_count": 19,
   "metadata": {},
   "outputs": [
    {
     "name": "stdout",
     "output_type": "stream",
     "text": [
      "add number array  [3 5 7 9]\n",
      "even number array  [2 4 6 8]\n",
      "\n",
      "sum  [ 5  9 13 17]\n",
      "------------------------------------------------\n",
      "mynus [1 1 1 1]\n",
      "----------------------------------------\n",
      "updated odd arrays:  [ 6 10 14 18]\n",
      "updated even arrays:  [ 6 12 18 24]\n"
     ]
    }
   ],
   "source": [
    "# Arithmetic opeators:\n",
    "\n",
    "odd_num= np.array([3,5,7,9])\n",
    "\n",
    "even_num= np.array ([2,4,6,8])\n",
    "\n",
    "print('add number array ', odd_num)\n",
    "\n",
    "print('even number array ', even_num)\n",
    "\n",
    "sum = odd_num + even_num\n",
    "\n",
    "print('\\nsum ', sum)\n",
    "\n",
    "print(\"-\"*48)\n",
    "\n",
    "mynus = odd_num - even_num\n",
    "\n",
    "print('mynus', mynus)\n",
    "\n",
    "print('-'*40)\n",
    "\n",
    "print('updated odd arrays: ',odd_num*2) \n",
    "print('updated even arrays: ', even_num*3)"
   ]
  },
  {
   "cell_type": "code",
   "execution_count": 20,
   "metadata": {},
   "outputs": [
    {
     "name": "stdout",
     "output_type": "stream",
     "text": [
      "[False  True  True  True False  True False]\n",
      "AGe greater than 40: [56 43 98 77]\n"
     ]
    }
   ],
   "source": [
    "#comparison operators in an array:\n",
    "\n",
    "#it can be used to validate specific condition:\n",
    "\n",
    "#it follows with condition on each elements\n",
    "\n",
    "import numpy as np\n",
    "\n",
    "age= np.array([14,56,43,98,34,77,22])\n",
    "\n",
    "print(age>40) #it will give booolean output \n",
    "print('AGe greater than 40:', age [age>40])"
   ]
  },
  {
   "cell_type": "code",
   "execution_count": 21,
   "metadata": {},
   "outputs": [
    {
     "name": "stdout",
     "output_type": "stream",
     "text": [
      "[[ 1  0  2]\n",
      " [ 4 -2  3]]\n",
      "[[4 8 1]\n",
      " [2 3 8]]\n",
      "element wise multiplication:\n",
      " [[ 4  0  2]\n",
      " [ 8 -6 24]]\n"
     ]
    }
   ],
   "source": [
    "# arithmetic operations on 2d array:\n",
    "\n",
    "num_matrix_1 = np.array([[1,0,2], [4,-2,3]])\n",
    "\n",
    "num_matrix_2 = np.array([[4,8,1], [2,3,8]])\n",
    "\n",
    "print(num_matrix_1)\n",
    "\n",
    "print(num_matrix_2)\n",
    "\n",
    "product = num_matrix_1*num_matrix_2\n",
    "\n",
    "print('element wise multiplication:\\n', product)"
   ]
  },
  {
   "cell_type": "code",
   "execution_count": 22,
   "metadata": {},
   "outputs": [
    {
     "name": "stdout",
     "output_type": "stream",
     "text": [
      "[[ 1  0  2]\n",
      " [ 4 -2  3]]\n",
      "[[4 0]\n",
      " [2 3]\n",
      " [1 4]]\n",
      "[[ 6  8]\n",
      " [15  6]]\n"
     ]
    }
   ],
   "source": [
    "#different shapes\n",
    "\n",
    "num_1= np.array([[1,0,2], [4,-2,3]])\n",
    "\n",
    "num_2= np.array([[4,0], [2,3], [1,4]])\n",
    "\n",
    "print(num_1)\n",
    "\n",
    "print(num_2)\n",
    "\n",
    "#dot function for multiplication of 2*3 and 3*2\n",
    "\n",
    "mul = num_1.dot(num_2)\n",
    "\n",
    "print(mul)"
   ]
  },
  {
   "cell_type": "code",
   "execution_count": 23,
   "metadata": {},
   "outputs": [
    {
     "name": "stdout",
     "output_type": "stream",
     "text": [
      "Minimum:  14\n",
      "Maximum:  98\n",
      "Sum:  344\n",
      "Mean:  49.143\n",
      "variance:  778.4081632653061\n",
      "standard deviation 27.89996708358822\n",
      "Square: [ 196 3136 1849 9604 1156 5929  484]\n",
      "cube: [  2744 175616  79507 941192  39304 456533  10648]\n"
     ]
    }
   ],
   "source": [
    "# simple arithmetic functions on array\n",
    "age = np.array([14, 56, 43, 98, 34, 77, 22])\n",
    "#USING KEYWORDS MIN, MAX, SUM, MEAN, VAR, STD, SQUARE, POWER\n",
    "\n",
    "print('Minimum: ',age.min())\n",
    "\n",
    "print('Maximum: ',age.max())\n",
    "\n",
    "print('Sum: ',age.sum())\n",
    "\n",
    "print('Mean: ', round(age.mean(),3))\n",
    "\n",
    "print('variance: ',age.var())\n",
    "\n",
    "print('standard deviation', age.std())\n",
    "\n",
    "print('Square:', np.square(age))\n",
    "\n",
    "print('cube:', np. power (age, 3))"
   ]
  },
  {
   "cell_type": "code",
   "execution_count": 24,
   "metadata": {},
   "outputs": [
    {
     "name": "stdout",
     "output_type": "stream",
     "text": [
      "Origianl array: \n",
      " [[1 2 3]\n",
      " [4 5 6]]\n",
      "Tranposed array: \n",
      " [[1 4]\n",
      " [2 5]\n",
      " [3 6]]\n"
     ]
    }
   ],
   "source": [
    "#TRANSPOSE OF AN ARRAY:\n",
    "\n",
    "num= np.array([[1,2,3], [4,5,6]])\n",
    "\n",
    "print('Origianl array: \\n', num)\n",
    "\n",
    "print('Tranposed array: \\n', np. transpose(num))"
   ]
  },
  {
   "cell_type": "code",
   "execution_count": 28,
   "metadata": {},
   "outputs": [
    {
     "data": {
      "text/plain": [
       "array([1, 4, 5, 7, 5, 6, 7, 2, 7, 8, 9])"
      ]
     },
     "execution_count": 28,
     "metadata": {},
     "output_type": "execute_result"
    }
   ],
   "source": [
    "#Conacatenation of id array:\n",
    "\n",
    "order_1 = np.array([1,4,5,7]) \n",
    "order_2 = np.array([5,6,7])\n",
    "order_3 = np.array([2,7,8,9])\n",
    "\n",
    "np.concatenate([order_1, order_2, order_3])"
   ]
  },
  {
   "cell_type": "code",
   "execution_count": 30,
   "metadata": {},
   "outputs": [
    {
     "name": "stdout",
     "output_type": "stream",
     "text": [
      "ODD ARRAYS:  [[1 3]\n",
      " [5 7]]\n",
      "EVEN ARRAYS:  [[2 4]\n",
      " [6 8]]\n",
      "ROW WISE CONCATENATION OF 2D ARRAY  [[1 3]\n",
      " [5 7]\n",
      " [2 4]\n",
      " [6 8]]\n",
      "CLMN WISE CONCATENATION OF 2D ARRAY  [[1 3 2 4]\n",
      " [5 7 6 8]]\n"
     ]
    }
   ],
   "source": [
    "#we can concatenate 2d array either along the rows (axis-8) (BY DEFAULT)\n",
    "\n",
    "#we can concatenate 20 array either along the cims(axis-1)\n",
    "\n",
    "odd_array = np.array([[1,3],[5,7]])\n",
    "even_array = np.array([[2,4],[6,8]])\n",
    "\n",
    "print('ODD ARRAYS: ',odd_array)\n",
    "print('EVEN ARRAYS: ', even_array)\n",
    "print('ROW WISE CONCATENATION OF 2D ARRAY ', np.concatenate([odd_array, even_array]))\n",
    "\n",
    "print('CLMN WISE CONCATENATION OF 2D ARRAY ', np.concatenate([odd_array, even_array],axis =1))"
   ]
  },
  {
   "cell_type": "code",
   "execution_count": 31,
   "metadata": {},
   "outputs": [
    {
     "name": "stdout",
     "output_type": "stream",
     "text": [
      "Odd arrays:\n",
      " [[1 3]\n",
      " [5 7]]\n",
      "Even arrays:\n",
      " [[2 4]\n",
      " [6 8]]\n",
      "stacked arrays: \n",
      " [[[1 3]\n",
      "  [5 7]]\n",
      "\n",
      " [[2 4]\n",
      "  [6 8]]]\n",
      "dimension:  3\n"
     ]
    }
   ],
   "source": [
    "# Stacking of an arrays are used to join two or more arrays \n",
    "# with the same shape along with the specified axis\n",
    "# we can create higher-dimensional arrays by stackking two or more arrays\n",
    "\n",
    "import numpy as np\n",
    "\n",
    "odd_array = np.array([[1,3], [5,7]])\n",
    "\n",
    "even_array = np.array([[2,4], [6,8]])\n",
    "\n",
    "print(\"Odd arrays:\\n\", odd_array)\n",
    "print('Even arrays:\\n', even_array)\n",
    "print('stacked arrays: \\n', np.stack([odd_array, even_array])) \n",
    "print('dimension: ', np.ndim(np.stack([odd_array, even_array])))"
   ]
  },
  {
   "cell_type": "code",
   "execution_count": 32,
   "metadata": {},
   "outputs": [
    {
     "name": "stdout",
     "output_type": "stream",
     "text": [
      "[[1 3 2 4]\n",
      " [5 7 6 8]]\n",
      "\n",
      "[[1 3]\n",
      " [5 7]\n",
      " [2 4]\n",
      " [6 8]]\n"
     ]
    }
   ],
   "source": [
    "odd_array = np.array([[1,3], [5,7]])\n",
    "\n",
    "even_array = np.array([[2,4], [6,8]])\n",
    "\n",
    "print(np.hstack([odd_array, even_array]))\n",
    "print()\n",
    "print(np.vstack([odd_array, even_array]))"
   ]
  },
  {
   "cell_type": "code",
   "execution_count": 33,
   "metadata": {},
   "outputs": [
    {
     "data": {
      "text/plain": [
       "array([[1, 2],\n",
       "       [3, 4]])"
      ]
     },
     "execution_count": 33,
     "metadata": {},
     "output_type": "execute_result"
    }
   ],
   "source": [
    "#Column stacking for 10 and 2D arrays:\n",
    "#hstack columnstack\n",
    "#1D\n",
    "\n",
    "odd_array = np.array([1,3])\n",
    "even_array = np.array([2,4])\n",
    "np.column_stack([odd_array, even_array])"
   ]
  },
  {
   "cell_type": "code",
   "execution_count": 34,
   "metadata": {},
   "outputs": [
    {
     "data": {
      "text/plain": [
       "array([[1, 3, 2, 4],\n",
       "       [5, 7, 6, 8]])"
      ]
     },
     "execution_count": 34,
     "metadata": {},
     "output_type": "execute_result"
    }
   ],
   "source": [
    "#20 \n",
    "\n",
    "odd_array = np.array([[1,3], [5,7]])\n",
    "even_array = np.array([[2,4], [6,8]]) \n",
    "np.column_stack([odd_array, even_array])"
   ]
  },
  {
   "cell_type": "code",
   "execution_count": 35,
   "metadata": {},
   "outputs": [
    {
     "data": {
      "text/plain": [
       "array([[0., 0., 1., 1.],\n",
       "       [0., 0., 1., 1.],\n",
       "       [0., 0., 1., 1.],\n",
       "       [0., 0., 1., 1.]])"
      ]
     },
     "execution_count": 35,
     "metadata": {},
     "output_type": "execute_result"
    }
   ],
   "source": [
    "#-block()\n",
    "#it is used to assemble arrays from a nested list into blocks\n",
    "\n",
    "m1 = np.zeros((2,2)) \n",
    "m2 = np.ones((2,2))\n",
    "m3 = np.zeros((2,2))\n",
    "m4 = np.ones((2,2))\n",
    "\n",
    "np.block([[m1,m2], [m3,m4]])"
   ]
  },
  {
   "cell_type": "code",
   "execution_count": 37,
   "metadata": {},
   "outputs": [
    {
     "name": "stdout",
     "output_type": "stream",
     "text": [
      "spliting of an array at specific indices:\n",
      " [array([0]), array([1, 2]), array([3, 4, 5, 6, 7, 8])]\n"
     ]
    }
   ],
   "source": [
    "#Spliting of an array\n",
    "#Consider on 10 array\n",
    "#Split\n",
    "\n",
    "num_array = np.arange(9)\n",
    "print('spliting of an array at specific indices:\\n',np.split(num_array, [1,3]))"
   ]
  },
  {
   "cell_type": "code",
   "execution_count": 38,
   "metadata": {},
   "outputs": [
    {
     "name": "stdout",
     "output_type": "stream",
     "text": [
      "2 sub- arrays: [array([0, 1, 2, 3, 4]), array([5, 6, 7, 8])]\n"
     ]
    }
   ],
   "source": [
    "num_array = np.arange(9)\n",
    "print('2 sub- arrays:', np.array_split(num_array, 2))"
   ]
  },
  {
   "cell_type": "code",
   "execution_count": 39,
   "metadata": {},
   "outputs": [
    {
     "data": {
      "text/plain": [
       "[array([[1, 3],\n",
       "        [2, 4]]),\n",
       " array([[5, 7],\n",
       "        [6, 8]])]"
      ]
     },
     "execution_count": 39,
     "metadata": {},
     "output_type": "execute_result"
    }
   ],
   "source": [
    "#Splitting an array using hsplit()\n",
    "#create an 2d array\n",
    "\n",
    "num_array = np.array([[1,3,5,7], [2,4,6,8]])\n",
    "\n",
    "#split the array into two sub arrays\n",
    "\n",
    "np.hsplit(num_array,2)"
   ]
  },
  {
   "cell_type": "code",
   "execution_count": 40,
   "metadata": {},
   "outputs": [
    {
     "data": {
      "text/plain": [
       "[array([[1, 3, 5, 7]]), array([[2, 4, 6, 8]])]"
      ]
     },
     "execution_count": 40,
     "metadata": {},
     "output_type": "execute_result"
    }
   ],
   "source": [
    "# Splitting an array using vsplit()\n",
    "#create 2D array\n",
    "\n",
    "num_array = np.array([[1,3,5,7], [2,4,6,8]])\n",
    "\n",
    "#split the array into 2 sub arrays \n",
    "np.vsplit(num_array, 2)"
   ]
  },
  {
   "cell_type": "code",
   "execution_count": 41,
   "metadata": {},
   "outputs": [
    {
     "name": "stdout",
     "output_type": "stream",
     "text": [
      "splitted array [array([[[ 0],\n",
      "        [ 2],\n",
      "        [ 4],\n",
      "        [ 6]],\n",
      "\n",
      "       [[ 8],\n",
      "        [10],\n",
      "        [12],\n",
      "        [14]]]), array([[[ 1],\n",
      "        [ 3],\n",
      "        [ 5],\n",
      "        [ 7]],\n",
      "\n",
      "       [[ 9],\n",
      "        [11],\n",
      "        [13],\n",
      "        [15]]])]\n"
     ]
    }
   ],
   "source": [
    "# Splitting an array depth-wise using dsplit()\n",
    "\n",
    "num_array = np.arange(16).reshape(2,4,2)\n",
    "\n",
    "#Split the array into 2 sub-arrays\n",
    "\n",
    "print('splitted array', np.dsplit(num_array,2))"
   ]
  },
  {
   "cell_type": "code",
   "execution_count": 42,
   "metadata": {},
   "outputs": [
    {
     "name": "stdout",
     "output_type": "stream",
     "text": [
      "Original array:\n",
      " [[1 3 5 7]\n",
      " [2 4 6 8]]\n",
      "dimentionality of the array: 2\n",
      "flattened array: \n",
      " [1 3 5 7 2 4 6 8]\n",
      "dimentionality of the array:  1\n"
     ]
    }
   ],
   "source": [
    "#create an 2d array\n",
    "num_array = np.array([[1,3,5,7], [2,4,6,8]])\n",
    "\n",
    "print('Original array:\\n', num_array)\n",
    "print('dimentionality of the array:',np.ndim(num_array))\n",
    "\n",
    "#flatten the array into 10\n",
    "print(\"flattened array: \\n\", np.ndarray.flatten (num_array))\n",
    "print('dimentionality of the array: ', np.ndim(np.ndarray.flatten (num_array)))"
   ]
  },
  {
   "cell_type": "markdown",
   "metadata": {},
   "source": [
    "1D[Create ndarray, mean, dot(2 x 3) (3 x 2), reshape, flatten, dtype, reverse ndarray, sort(ascending, descending)], 1D: swap values with another array, random.rand(5,5) find min, max and mean"
   ]
  },
  {
   "cell_type": "code",
   "execution_count": 105,
   "metadata": {},
   "outputs": [
    {
     "name": "stdout",
     "output_type": "stream",
     "text": [
      "Mean: 3.0\n",
      "\n",
      "Array 1:\n",
      "[[7 6 7]\n",
      " [4 8 1]\n",
      " [1 6 3]]\n",
      "Array 2:\n",
      "[[9 0 1]\n",
      " [4 1 5]\n",
      " [6 4 1]]\n",
      "Product:\n",
      "[[129  34  44]\n",
      " [ 74  12  45]\n",
      " [ 51  18  34]]\n",
      "\n",
      "Reshape of the product above:\n",
      "[[129  34  44  74  12  45  51  18  34]]\n",
      "\n",
      "Flatten of the product:\n",
      "[129  34  44  74  12  45  51  18  34]\n",
      "\n",
      "Type of the product: int32\n",
      "\n",
      "Reverse of 2D: [[ 34  18  51  45  12  74  44  34 129]]\n",
      "Reverse of 1D: [ 34  18  51  45  12  74  44  34 129]\n",
      "\n",
      "Random (5,5) array:\n",
      "[[9 3 4 0 4]\n",
      " [5 9 7 1 6]\n",
      " [7 7 0 4 3]\n",
      " [4 4 5 8 3]\n",
      " [0 2 8 7 9]]\n",
      "Min of Reshape: 0\n",
      "Max of Reshape: 9\n",
      "\n",
      "Original\n",
      "a = [1 2 3]\n",
      "b = [3 4 5]\n",
      "After swap: \n",
      "a = [3 4 5]\n",
      "b = [1 2 3]\n",
      "\n"
     ]
    }
   ],
   "source": [
    "import numpy as np\n",
    "import random\n",
    "\n",
    "# Create\n",
    "arr_1d = np.array([1, 2, 3, 4, 5])\n",
    "\n",
    "# Mean\n",
    "average = np.mean(arr_1d)\n",
    "print(f\"Mean: {average}\\n\")\n",
    "\n",
    "array1 = np.random.randint(10, size=(3, 3))\n",
    "array2 = np.random.randint(10, size=(3, 3))\n",
    "\n",
    "# Calculate dot product\n",
    "result = np.dot(array1, array2)\n",
    "\n",
    "# Display arrays and dot product\n",
    "print(f\"Array 1:\\n{array1}\")\n",
    "print(f\"Array 2:\\n{array2}\")\n",
    "print(f\"Product:\\n{result}\\n\")\n",
    "\n",
    "# Reshape\n",
    "reshape = result.reshape(1,9)\n",
    "print(f\"Reshape of the product above:\\n{reshape}\\n\")\n",
    "\n",
    "# Flatten\n",
    "flatten = result.flatten()\n",
    "print(f\"Flatten of the product:\\n{flatten}\\n\")\n",
    "\n",
    "# Dtype\n",
    "dtype = result.dtype\n",
    "print(f\"Type of the product: {dtype}\\n\")\n",
    "\n",
    "# Reverse ndarray\n",
    "reverse = reshape[::-1 , ::-1]\n",
    "reversef = flatten[::-1]\n",
    "print(f\"Reverse of 2D: {reverse}\")\n",
    "print(f\"Reverse of 1D: {reversef}\\n\")\n",
    "\n",
    "# Ascending and descending\n",
    "\n",
    "# Min and max of Random array of size (5,5)\n",
    "rand_array = np.random.randint(10, size=(5,5))\n",
    "print(f\"Random (5,5) array:\\n{rand_array}\")\n",
    "print(f\"Min of Reshape: {rand_array.min()}\")\n",
    "print(f\"Max of Reshape: {rand_array.max()}\\n\")\n",
    "\n",
    "# Swap  \n",
    "a = np.array([1, 2, 3])\n",
    "b = np.array([3, 4, 5])\n",
    "\n",
    "print(\"Original\")\n",
    "print(f\"a = {a}\")\n",
    "print(f\"b = {b}\")\n",
    "\n",
    "a = a + b\n",
    "b = a - b\n",
    "a = a - b\n",
    "\n",
    "print(\"After swap: \")\n",
    "print(f\"a = {a}\")\n",
    "print(f\"b = {b}\\n\")\n",
    "\n"
   ]
  },
  {
   "cell_type": "code",
   "execution_count": null,
   "metadata": {},
   "outputs": [],
   "source": []
  }
 ],
 "metadata": {
  "kernelspec": {
   "display_name": "Python 3",
   "language": "python",
   "name": "python3"
  },
  "language_info": {
   "codemirror_mode": {
    "name": "ipython",
    "version": 3
   },
   "file_extension": ".py",
   "mimetype": "text/x-python",
   "name": "python",
   "nbconvert_exporter": "python",
   "pygments_lexer": "ipython3",
   "version": "3.11.9"
  }
 },
 "nbformat": 4,
 "nbformat_minor": 2
}
