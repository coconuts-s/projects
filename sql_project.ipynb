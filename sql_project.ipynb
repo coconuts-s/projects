{
 "cells": [
  {
   "cell_type": "markdown",
   "metadata": {},
   "source": [
    "# MYSQL project"
   ]
  },
  {
   "cell_type": "markdown",
   "metadata": {},
   "source": [
    "#### Database Schema"
   ]
  },
  {
   "cell_type": "markdown",
   "metadata": {},
   "source": [
    "-- Create the database\n",
    "CREATE DATABASE IF NOT EXISTS college_management;\n",
    "\n",
    "-- Use the database\n",
    "USE college_management;\n",
    "\n",
    "-- Create the students table\n",
    "CREATE TABLE IF NOT EXISTS students (\n",
    "    student_id INT AUTO_INCREMENT PRIMARY KEY,\n",
    "    student_name VARCHAR(255) NOT NULL,\n",
    "    date_of_birth DATE NOT NULL,\n",
    "    gender ENUM('Male', 'Female', 'Other') NOT NULL,\n",
    "    email VARCHAR(255) NOT NULL,\n",
    "    phone_number VARCHAR(20) NOT NULL,\n",
    "    address VARCHAR(255) NOT NULL\n",
    ");\n",
    "\n",
    "-- Create the courses table\n",
    "CREATE TABLE IF NOT EXISTS courses (\n",
    "    course_id INT AUTO_INCREMENT PRIMARY KEY,\n",
    "    course_name VARCHAR(255) NOT NULL,\n",
    "    instructor VARCHAR(255) NOT NULL,\n",
    "    credits INT NOT NULL\n",
    ");\n",
    "\n",
    "-- Create the enrollment table\n",
    "CREATE TABLE IF NOT EXISTS enrollment (\n",
    "    enrollment_id INT AUTO_INCREMENT PRIMARY KEY,\n",
    "    student_id INT NOT NULL,\n",
    "    course_id INT NOT NULL,\n",
    "    enrollment_date DATE NOT NULL,\n",
    "    FOREIGN KEY (student_id) REFERENCES students(student_id),\n",
    "    FOREIGN KEY (course_id) REFERENCES courses(course_id)\n",
    ");\n",
    "\n",
    "-- Insert the new data into the tables\n",
    "INSERT INTO students (student_name, date_of_birth, gender, email, phone_number, address)\n",
    "VALUES\n",
    "    ('Alice Johnson', '1998-05-15', 'Female', 'alice@example.com', '123-456-7890', '123 Main St, City'),\n",
    "    ('Bob Smith', '1999-08-20', 'Male', 'bob@example.com', '234-567-8901', '456 Elm St, Town'),\n",
    "    ('Charlie Brown', '1997-12-10', 'Male', 'charlie@example.com', '345-678-9012', '789 Oak St, Village'),\n",
    "    ('David Miller', '1996-09-25', 'Male', 'david@example.com', '456-789-0123', '321 Pine St, City'),\n",
    "    ('Emma Davis', '1998-03-30', 'Female', 'emma@example.com', '567-890-1234', '654 Oak St, Town'),\n",
    "    ('Olivia Wilson', '1999-11-05', 'Female', 'olivia@example.com', '678-901-2345', '987 Elm St, City'),\n",
    "    ('Ethan Martinez', '1997-07-18', 'Male', 'ethan@example.com', '789-012-3456', '789 Pine St, Town'),\n",
    "    ('Mia Anderson', '1998-01-22', 'Female', 'mia@example.com', '890-123-4567', '654 Oak St, Village'),\n",
    "    ('Noah Garcia', '1997-04-12', 'Male', 'noah@example.com', '901-234-5678', '321 Elm St, City'),\n",
    "    ('Sophia Thomas', '1999-10-03', 'Female', 'sophia@example.com', '012-345-6789', '987 Pine St, Town');\n",
    "\n",
    "INSERT INTO courses (course_name, instructor, credits)\n",
    "VALUES\n",
    "    ('Mathematics 101', 'Prof. Smith', 3),\n",
    "    ('English Literature', 'Prof. Johnson', 3),\n",
    "    ('Computer Science', 'Prof. Brown', 4),\n",
    "    ('History', 'Prof. White', 3);\n",
    "\n",
    "INSERT INTO enrollment (student_id, course_id, enrollment_date)\n",
    "VALUES\n",
    "    (1, 1, '2024-01-10'),\n",
    "    (1, 2, '2024-01-10'),\n",
    "    (2, 3, '2024-01-11'),\n",
    "    (3, 1, '2024-01-12'),\n",
    "    (4, 3, '2024-01-12'),\n",
    "    (5, 2, '2024-01-13'),\n",
    "    (5, 4, '2024-01-13'),\n",
    "    (6, 1, '2024-01-14'),\n",
    "    (6, 2, '2024-01-14'),\n",
    "    (6, 3, '2024-01-14'),\n",
    "    (7, 3, '2024-01-15'),\n",
    "    (7, 4, '2024-01-15'),\n",
    "    (8, 2, '2024-01-16'),\n",
    "    (9, 1, '2024-01-17'),\n",
    "    (9, 4, '2024-01-17'),\n",
    "    (10, 3, '2024-01-18'),\n",
    "    (10, 4, '2024-01-18');\n"
   ]
  },
  {
   "cell_type": "markdown",
   "metadata": {},
   "source": [
    "#### Data in table format"
   ]
  },
  {
   "cell_type": "markdown",
   "metadata": {},
   "source": [
    "+------------+----------------+---------------+---------+---------------------+----------------+---------------------+\n",
    "| student_id | student_name   | date_of_birth | gender  | email               | phone_number   | address             |\n",
    "+------------+----------------+---------------+---------+---------------------+----------------+---------------------+\n",
    "| 1          | Alice Johnson  | 1998-05-15    | Female  | alice@example.com   | 123-456-7890   | 123 Main St, City   |\n",
    "| 2          | Bob Smith      | 1999-08-20    | Male    | bob@example.com     | 234-567-8901   | 456 Elm St, Town    |\n",
    "| 3          | Charlie Brown  | 1997-12-10    | Male    | charlie@example.com | 345-678-9012   | 789 Oak St, Village |\n",
    "| 4          | David Miller   | 1996-09-25    | Male    | david@example.com   | 456-789-0123   | 321 Pine St, City   |\n",
    "| 5          | Emma Davis     | 1998-03-30    | Female  | emma@example.com    | 567-890-1234   | 654 Oak St, Town    |\n",
    "| 6          | Olivia Wilson  | 1999-11-05    | Female  | olivia@example.com  | 678-901-2345   | 987 Elm St, City    |\n",
    "| 7          | Ethan Martinez | 1997-07-18    | Male    | ethan@example.com   | 789-012-3456   | 789 Pine St, Town   |\n",
    "| 8          | Mia Anderson   | 1998-01-22    | Female  | mia@example.com     | 890-123-4567   | 654 Oak St, Village |\n",
    "| 9          | Noah Garcia    | 1997-04-12    | Male    | noah@example.com    | 901-234-5678   | 321 Elm St, City    |\n",
    "| 10         | Sophia Thomas  | 1999-10-03    | Female  | sophia@example.com  | 012-345-6789   | 987 Pine St, Town   |\n",
    "+------------+----------------+---------------+---------+---------------------+----------------+---------------------+\n",
    "\n",
    "+-----------+-------------------+----------------+---------+\n",
    "| course_id | course_name       | instructor     | credits |\n",
    "+-----------+-------------------+----------------+---------+\n",
    "| 1         | Mathematics 101   | Prof. Smith    | 3       |\n",
    "| 2         | English Literature| Prof. Johnson  | 3       |\n",
    "| 3         | Computer Science  | Prof. Brown    | 4       |\n",
    "| 4         | History           | Prof. White    | 3       |\n",
    "+-----------+-------------------+----------------+---------+\n",
    "\n",
    "+---------------+------------+-----------+------------------+\n",
    "| enrollment_id | student_id | course_id | enrollment_date  |\n",
    "+---------------+------------+-----------+------------------+\n",
    "| 1             | 1          | 1         | 2024-01-10       |\n",
    "| 2             | 1          | 2         | 2024-01-10       |\n",
    "| 3             | 2          | 3         | 2024-01-11       |\n",
    "| 4             | 3          | 1         | 2024-01-12       |\n",
    "| 5             | 4          | 3         | 2024-01-12       |\n",
    "| 6             | 5          | 2         | 2024-01-13       |\n",
    "| 7             | 5          | 4         | 2024-01-13       |\n",
    "| 8             | 6          | 1         | 2024-01-14       |\n",
    "| 9             | 6          | 2         | 2024-01-14       |\n",
    "| 10            | 6          | 3         | 2024-01-14       |\n",
    "| 11            | 7          | 3         | 2024-01-15       |\n",
    "| 12            | 7          | 4         | 2024-01-15       |\n",
    "| 13            | 8          | 2         | 2024-01-16       |\n",
    "| 14            | 9          | 1         | 2024-01-17       |\n",
    "| 15            | 9          | 4         | 2024-01-17       |\n",
    "| 16            | 10         | 3         | 2024-01-18       |\n",
    "| 17            | 10         | 4         | 2024-01-18       |\n",
    "+---------------+------------+-----------+------------------+\n"
   ]
  },
  {
   "cell_type": "markdown",
   "metadata": {},
   "source": [
    "#### ChatGPT Questions"
   ]
  },
  {
   "cell_type": "markdown",
   "metadata": {},
   "source": [
    "List all students enrolled in the 'Computer Science' course.\n",
    "Find the total number of credits for each student.\n",
    "List all courses along with the number of students enrolled in each course.\n",
    "Find the student with the highest number of enrollments.\n",
    "List all courses with no enrollments.\n",
    "Find the average age of male students.\n",
    "Find the instructor(s) who teach the most courses.\n",
    "List all students who have not enrolled in any course.\n",
    "Find the course with the highest number of credits.\n",
    "List all students enrolled in more than one course.\n",
    "Find the course(s) with the longest enrollment history (i.e., the earliest enrollment date).\n",
    "List all students who have enrolled in a course taught by 'Prof. Brown'.\n",
    "Find the total number of male and female students.\n",
    "List all courses along with the number of male and female students enrolled in each course.\n",
    "Find the student(s) with the highest total number of credits enrolled.\n",
    "List all courses with enrollment dates in January 2024.\n",
    "Find the student(s) enrolled in the course with the highest number of credits.\n",
    "List all courses with at least one female student enrolled.\n",
    "Find the student(s) with the earliest enrollment date.\n",
    "List all students who live in 'City'."
   ]
  },
  {
   "cell_type": "markdown",
   "metadata": {},
   "source": [
    "##### 1. List all students enrolled in the 'Computer Science' course."
   ]
  },
  {
   "cell_type": "markdown",
   "metadata": {},
   "source": [
    "-- Q1 List all students enrolled in the 'Computer Science' course.\n",
    "SELECT student_name, address FROM students S\n",
    "INNER JOIN enrollment E ON S.student_id = E.student_id\n",
    "INNER JOIN courses C ON E.course_id = C.course_id\n",
    "WHERE course_name = \"Computer Science\";"
   ]
  },
  {
   "cell_type": "markdown",
   "metadata": {},
   "source": [
    "##### 2. Find the total number of credits for each student."
   ]
  },
  {
   "cell_type": "markdown",
   "metadata": {},
   "source": [
    "-- Q2. Find the total number of credits for each student.\n",
    "SELECT student_name, address, sum(credits) AS \"Total Credits\" FROM students S\n",
    "INNER JOIN enrollment E ON S.student_id = E.student_id\n",
    "INNER JOIN courses C ON E.course_id = C.course_id\n",
    "GROUP BY student_name;"
   ]
  },
  {
   "cell_type": "markdown",
   "metadata": {},
   "source": [
    "\n",
    "##### 3. List all courses along with the number of students enrolled in each course.\n"
   ]
  },
  {
   "cell_type": "markdown",
   "metadata": {},
   "source": [
    "-- Q3. List all courses along with the number of students enrolled in each course.\n",
    "SELECT course_name, group_concat(student_name), address, count(student_name) AS \"Total Students\" FROM students S\n",
    "INNER JOIN enrollment E ON S.student_id = E.student_id\n",
    "INNER JOIN courses C ON E.course_id = C.course_id\n",
    "GROUP BY course_name;"
   ]
  },
  {
   "cell_type": "markdown",
   "metadata": {},
   "source": [
    "\n",
    "##### 4. Find the student with the highest number of enrollments.\n"
   ]
  },
  {
   "cell_type": "markdown",
   "metadata": {},
   "source": [
    "-- Q4. Find the student with the highest number of enrollments.\n",
    "SELECT student_name, address, count(enrollment_id) FROM students S\n",
    "INNER JOIN enrollment E ON S.student_id = E.student_id\n",
    "GROUP BY student_name\n",
    "ORDER BY count(enrollment_id) desc\n",
    "limit 1;"
   ]
  },
  {
   "cell_type": "markdown",
   "metadata": {},
   "source": [
    "\n",
    "##### 5. List all courses with no enrollments.\n"
   ]
  },
  {
   "cell_type": "markdown",
   "metadata": {},
   "source": [
    "-- Q5. List all courses with no enrollments.\n",
    "SELECT C.course_id, course_name, instructor, credits FROM courses C\n",
    "INNER JOIN enrollment E ON C.course_id = E.course_id\n",
    "GROUP BY course_name\n",
    "HAVING count(E.course_id) = 0;"
   ]
  },
  {
   "cell_type": "markdown",
   "metadata": {},
   "source": [
    "\n",
    "##### 6. Find the average age of male students.\n"
   ]
  },
  {
   "cell_type": "markdown",
   "metadata": {},
   "source": [
    "-- Q6. Find the average age of male students.\n",
    "SELECT AVG(DATEDIFF(NOW(), date_of_birth) / 365) AS average_age FROM students\n",
    "WHERE gender = 'Male';"
   ]
  },
  {
   "cell_type": "markdown",
   "metadata": {},
   "source": [
    "\n",
    "##### 7. Find the instructor(s) who teach the most courses.\n"
   ]
  },
  {
   "cell_type": "markdown",
   "metadata": {},
   "source": [
    "-- Q7. Find the instructor(s) who teach the most courses.\n",
    "SELECT instructor, COUNT(course_id) AS num_courses_taught FROM courses\n",
    "GROUP BY instructor\n",
    "HAVING num_courses_taught = (\n",
    "    SELECT COUNT(course_id) AS max_courses FROM courses\n",
    "    GROUP BY instructor\n",
    "    ORDER BY max_courses DESC\n",
    "    LIMIT 1\n",
    ");"
   ]
  },
  {
   "cell_type": "markdown",
   "metadata": {},
   "source": [
    "\n",
    "##### 8. List all students who have not enrolled in any course.\n"
   ]
  },
  {
   "cell_type": "markdown",
   "metadata": {},
   "source": [
    "\n",
    "\n",
    "-- Q8. List all students who have not enrolled in any course.\n",
    "SELECT S.student_id, student_name FROM enrollment E\n",
    "RIGHT JOIN students S ON E.student_id = S.student_id\n",
    "WHERE E.student_id is null;"
   ]
  },
  {
   "cell_type": "markdown",
   "metadata": {},
   "source": [
    "\n",
    "##### 9. Find the course with the highest number of credits.\n"
   ]
  },
  {
   "cell_type": "markdown",
   "metadata": {},
   "source": [
    "\n",
    "\n",
    "-- Q9. Find the course with the highest number of credits.\n",
    "SELECT * FROM courses\n",
    "WHERE credits = (\n",
    "SELECT max(credits) FROM courses\n",
    ");"
   ]
  },
  {
   "cell_type": "markdown",
   "metadata": {},
   "source": [
    "##### 10. List all students enrolled in more than one course.\n"
   ]
  },
  {
   "cell_type": "markdown",
   "metadata": {},
   "source": [
    "\n",
    "\n",
    "-- Q10. List all students enrolled in more than one course.\n",
    "SELECT s.student_id, s.student_name, count(s.student_id) FROM students s\n",
    "INNER JOIN enrollment e ON s.student_id = e.student_id\n",
    "GROUP BY student_name\n",
    "HAVING count(e.student_id) > 1;"
   ]
  },
  {
   "cell_type": "markdown",
   "metadata": {},
   "source": [
    "##### 11. Find the course(s) with the longest enrollment history (i.e., the earliest enrollment date).\n"
   ]
  },
  {
   "cell_type": "markdown",
   "metadata": {},
   "source": [
    "\n",
    "\n",
    "-- Q11. Find the course(s) with the longest enrollment history (i.e., the earliest enrollment date).\n",
    "SELECT c.course_id, course_name, enrollment_date, max(DATEDIFF(NOW(), enrollment_date)) AS Longest_Enrollment FROM courses c\n",
    "INNER JOIN enrollment e ON c.course_id= e.course_id\n",
    "GROUP BY course_name \n",
    "HAVING Longest_Enrollment = (\n",
    "SELECT max(DATEDIFF(NOW(), enrollment_date)) FROM enrollment\n",
    ")\n",
    "ORDER BY course_id; # CORRECT ANSWER"
   ]
  },
  {
   "cell_type": "markdown",
   "metadata": {},
   "source": [
    "##### 12. List all students who have enrolled in a course taught by 'Prof. Brown'.\n"
   ]
  },
  {
   "cell_type": "markdown",
   "metadata": {},
   "source": [
    "\n",
    "\n",
    "-- Q12. List all students who have enrolled in a course taught by 'Prof. Brown'.\n",
    "SELECT student_name, course_name, instructor FROM enrollment e\n",
    "INNER JOIN students s ON e.student_id = s.student_id\n",
    "INNER JOIN courses c ON e.course_id = c.course_id\n",
    "WHERE instructor = \"Prof. Brown\";"
   ]
  },
  {
   "cell_type": "markdown",
   "metadata": {},
   "source": [
    "\n",
    "##### 13. Find the total number of male and female students."
   ]
  },
  {
   "cell_type": "markdown",
   "metadata": {},
   "source": [
    "\n",
    "\n",
    "-- Q13. Find the total number of male and female students.\n",
    "SELECT gender, count(student_id) AS count FROM students\n",
    "GROUP BY gender;"
   ]
  },
  {
   "cell_type": "markdown",
   "metadata": {},
   "source": [
    "##### 14. List all courses along with the number of male and female students enrolled in each course.\n"
   ]
  },
  {
   "cell_type": "markdown",
   "metadata": {},
   "source": [
    "\n",
    "\n",
    "-- Q14. List all courses along with the number of male and female students enrolled in each course.\n",
    "SELECT e.course_id, course_name, instructor, GROUP_CONCAT(gender), SUM(CASE WHEN gender = 'Male' THEN 1 ELSE 0 END) AS male_students,\n",
    "    SUM(CASE WHEN gender = 'Female' THEN 1 ELSE 0 END) AS female_students\n",
    "FROM enrollment e\n",
    "INNER JOIN students s ON e.student_id = s.student_id\n",
    "INNER JOIN courses c ON e.course_id = c.course_id\n",
    "GROUP BY course_name\n",
    "ORDER BY e.course_id;\n",
    "x"
   ]
  },
  {
   "cell_type": "markdown",
   "metadata": {},
   "source": [
    "##### 15. Find the student(s) with the highest total number of credits enrolled.\n"
   ]
  },
  {
   "cell_type": "markdown",
   "metadata": {},
   "source": [
    "\n",
    "\n",
    "-- Q15. Find the student(s) with the highest total number of credits enrolled.\n",
    "SELECT s.student_id, student_name, GROUP_CONCAT(credits) AS Credits, sum(credits) AS Total_credits \n",
    "FROM enrollment e\n",
    "INNER JOIN students s ON e.student_id = s.student_id\n",
    "INNER JOIN courses c ON e.course_id = c.course_id\n",
    "GROUP BY student_name\n",
    "HAVING Total_credits = (\n",
    "\n",
    "SELECT SUM(credits) AS total_credits \n",
    "FROM enrollment e\n",
    "INNER JOIN students s ON e.student_id = s.student_id\n",
    "INNER JOIN courses c ON e.course_id = c.course_id\n",
    "GROUP BY student_name\n",
    "ORDER BY total_credits DESC\n",
    "LIMIT 1\n",
    ");"
   ]
  },
  {
   "cell_type": "markdown",
   "metadata": {},
   "source": [
    "##### 16. List all courses with enrollment dates in January 2024.\n"
   ]
  },
  {
   "cell_type": "markdown",
   "metadata": {},
   "source": [
    "\n",
    "\n",
    "-- Q16 List all courses with enrollment dates in January 2024.\n",
    "SELECT DISTINCT c.course_id, course_name FROM courses c\n",
    "INNER JOIN enrollment e ON c.course_id = e.course_id\n",
    "GROUP BY course_name, enrollment_date\n",
    "HAVING MONTH(enrollment_date) = 1 AND YEAR(enrollment_date) = 2024\n",
    "ORDER BY course_id;\n"
   ]
  },
  {
   "cell_type": "markdown",
   "metadata": {},
   "source": [
    "##### 17. Find the student(s) enrolled in the course with the highest number of credits.\n"
   ]
  },
  {
   "cell_type": "markdown",
   "metadata": {},
   "source": [
    "\n",
    "-- Q17. Find the student(s) enrolled in the course with the highest number of credits.\n",
    "SELECT s.student_id AS Id, s.student_name AS \"Student Name\", \n",
    "GROUP_CONCAT(c.course_name SEPARATOR \", \") AS \"Course Name\", \n",
    "GROUP_CONCAT(credits SEPARATOR \" + \") AS Credits, \n",
    "SUM(credits) AS \"Total Credits\" \n",
    "FROM enrollment e\n",
    "INNER JOIN students s ON e.student_id = s.student_id\n",
    "INNER JOIN courses c ON e.course_id = c.course_id\n",
    "GROUP BY student_name;\n",
    "\n"
   ]
  },
  {
   "cell_type": "markdown",
   "metadata": {},
   "source": [
    "##### 18. List all courses with at least one female student enrolled.\n"
   ]
  },
  {
   "cell_type": "markdown",
   "metadata": {},
   "source": [
    "-- Q18. List all courses with at least one female student enrolled.\n",
    "SELECT c.course_id, c.course_name, SUM(CASE WHEN gender = 'Female' THEN 1 ELSE 0 END) AS female_students\n",
    "FROM enrollment e\n",
    "INNER JOIN students s ON e.student_id = s.student_id\n",
    "INNER JOIN courses c ON e.course_id = c.course_id\n",
    "GROUP BY course_name\n",
    "HAVING (\n",
    "SELECT SUM(CASE WHEN gender = 'Female' THEN 1 ELSE 0 END) AS female_students\n",
    "FROM enrollment e\n",
    "INNER JOIN students s ON e.student_id = s.student_id\n",
    "INNER JOIN courses c ON e.course_id = c.course_id\n",
    "GROUP BY course_name\n",
    "ORDER BY e.course_id\n",
    ") > 1; # ERROR\n",
    "\n",
    "SELECT c.course_id, c.course_name\n",
    "FROM enrollment e\n",
    "INNER JOIN students s ON e.student_id = s.student_id\n",
    "INNER JOIN courses c ON e.course_id = c.course_id\n",
    "GROUP BY c.course_id, c.course_name\n",
    "HAVING SUM(CASE WHEN s.gender = 'Female' THEN 1 ELSE 0 END) > 0; # CORRECT ANSWER\n",
    "\n"
   ]
  },
  {
   "cell_type": "markdown",
   "metadata": {},
   "source": [
    "##### 19. Find the student(s) with the earliest enrollment date.\n"
   ]
  },
  {
   "cell_type": "markdown",
   "metadata": {},
   "source": [
    "-- Q19. Find the student(s) with the earliest enrollment date.\n",
    "SELECT s.student_id, student_name, enrollment_date, max(DATEDIFF(NOW(), enrollment_date)) AS Longest_Enrollment \n",
    "FROM students s\n",
    "INNER JOIN enrollment e ON s.student_id = e.student_id\n",
    "GROUP BY student_name\n",
    "HAVING Longest_Enrollment = (\n",
    "SELECT max(DATEDIFF(NOW(), enrollment_date)) FROM enrollment\n",
    ")\n",
    "ORDER BY course_id;\n"
   ]
  },
  {
   "cell_type": "markdown",
   "metadata": {},
   "source": [
    "\n",
    "##### 20. List all students who live in 'City'."
   ]
  },
  {
   "cell_type": "markdown",
   "metadata": {},
   "source": [
    "\n",
    "-- Q20. List all students who live in 'City'.\n",
    "SELECT * FROM students\n",
    "WHERE address LIKE \"%City\";"
   ]
  },
  {
   "cell_type": "markdown",
   "metadata": {},
   "source": [
    "#### Code to covert questions to jupyter headings"
   ]
  },
  {
   "cell_type": "code",
   "execution_count": 5,
   "metadata": {},
   "outputs": [
    {
     "name": "stdout",
     "output_type": "stream",
     "text": [
      "##### 1. \"List all students enrolled in the 'Computer Science' course.\n",
      "##### 2. Find the total number of credits for each student.\n",
      "##### 3. List all courses along with the number of students enrolled in each course.\n",
      "##### 4. Find the student with the highest number of enrollments.\n",
      "##### 5. List all courses with no enrollments.\n",
      "##### 6. Find the average age of male students.\n",
      "##### 7. Find the instructor(s) who teach the most courses.\n",
      "##### 8. List all students who have not enrolled in any course.\n",
      "##### 9. Find the course with the highest number of credits.\n",
      "##### 10. List all students enrolled in more than one course.\n",
      "##### 11. Find the course(s) with the longest enrollment history (i.e., the earliest enrollment date).\n",
      "##### 12. List all students who have enrolled in a course taught by 'Prof. Brown'.\n",
      "##### 13. Find the total number of male and female students.\n",
      "##### 14. List all courses along with the number of male and female students enrolled in each course.\n",
      "##### 15. Find the student(s) with the highest total number of credits enrolled.\n",
      "##### 16. List all courses with enrollment dates in January 2024.\n",
      "##### 17. Find the student(s) enrolled in the course with the highest number of credits.\n",
      "##### 18. List all courses with at least one female student enrolled.\n",
      "##### 19. Find the student(s) with the earliest enrollment date.\n",
      "##### 20. List all students who live in 'City'.\n",
      "\n"
     ]
    }
   ],
   "source": [
    "string = \"\"\"\"List all students enrolled in the 'Computer Science' course.\n",
    "Find the total number of credits for each student.\n",
    "List all courses along with the number of students enrolled in each course.\n",
    "Find the student with the highest number of enrollments.\n",
    "List all courses with no enrollments.\n",
    "Find the average age of male students.\n",
    "Find the instructor(s) who teach the most courses.\n",
    "List all students who have not enrolled in any course.\n",
    "Find the course with the highest number of credits.\n",
    "List all students enrolled in more than one course.\n",
    "Find the course(s) with the longest enrollment history (i.e., the earliest enrollment date).\n",
    "List all students who have enrolled in a course taught by 'Prof. Brown'.\n",
    "Find the total number of male and female students.\n",
    "List all courses along with the number of male and female students enrolled in each course.\n",
    "Find the student(s) with the highest total number of credits enrolled.\n",
    "List all courses with enrollment dates in January 2024.\n",
    "Find the student(s) enrolled in the course with the highest number of credits.\n",
    "List all courses with at least one female student enrolled.\n",
    "Find the student(s) with the earliest enrollment date.\n",
    "List all students who live in 'City'.\"\"\"\n",
    "\n",
    "new_string = \"\"\n",
    "string = string.split(\"\\n\")\n",
    "for index, question in enumerate(string):\n",
    "    new_string += f\"##### {index + 1}. {question}\\n\"\n",
    "\n",
    "print(new_string)"
   ]
  },
  {
   "cell_type": "code",
   "execution_count": null,
   "metadata": {},
   "outputs": [],
   "source": []
  }
 ],
 "metadata": {
  "kernelspec": {
   "display_name": "Python 3",
   "language": "python",
   "name": "python3"
  },
  "language_info": {
   "codemirror_mode": {
    "name": "ipython",
    "version": 3
   },
   "file_extension": ".py",
   "mimetype": "text/x-python",
   "name": "python",
   "nbconvert_exporter": "python",
   "pygments_lexer": "ipython3",
   "version": "3.11.9"
  }
 },
 "nbformat": 4,
 "nbformat_minor": 2
}
